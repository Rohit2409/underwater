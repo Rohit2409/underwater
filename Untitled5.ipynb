{
  "nbformat": 4,
  "nbformat_minor": 0,
  "metadata": {
    "colab": {
      "name": "Untitled5.ipynb",
      "provenance": [],
      "collapsed_sections": [],
      "authorship_tag": "ABX9TyPlYo+CGQsafg48zRGALKfp",
      "include_colab_link": true
    },
    "kernelspec": {
      "name": "python3",
      "display_name": "Python 3"
    }
  },
  "cells": [
    {
      "cell_type": "markdown",
      "metadata": {
        "id": "view-in-github",
        "colab_type": "text"
      },
      "source": [
        "<a href=\"https://colab.research.google.com/github/Rohit2409/underwater/blob/main/Untitled5.ipynb\" target=\"_parent\"><img src=\"https://colab.research.google.com/assets/colab-badge.svg\" alt=\"Open In Colab\"/></a>"
      ]
    },
    {
      "cell_type": "code",
      "metadata": {
        "id": "yJnmiDhDHNAm",
        "colab": {
          "base_uri": "https://localhost:8080/"
        },
        "outputId": "24a1ac00-3523-4271-8aa7-0fe63ca7e24b"
      },
      "source": [
        "!git clone https://github.com/kskin/WaterGAN.git"
      ],
      "execution_count": null,
      "outputs": [
        {
          "output_type": "stream",
          "text": [
            "Cloning into 'WaterGAN'...\n",
            "remote: Enumerating objects: 185, done.\u001b[K\n",
            "remote: Total 185 (delta 0), reused 0 (delta 0), pack-reused 185\u001b[K\n",
            "Receiving objects: 100% (185/185), 4.90 MiB | 21.00 MiB/s, done.\n",
            "Resolving deltas: 100% (106/106), done.\n"
          ],
          "name": "stdout"
        }
      ]
    },
    {
      "cell_type": "code",
      "metadata": {
        "id": "N-Zm0147MTC6",
        "colab": {
          "base_uri": "https://localhost:8080/"
        },
        "outputId": "f78362aa-7291-4ace-80c0-3e64238611bc"
      },
      "source": [
        "!wget -c http://www.umich.edu/~dropopen/MHL.tar.gz -O - | tar -xz"
      ],
      "execution_count": null,
      "outputs": [
        {
          "output_type": "stream",
          "text": [
            "--2020-12-17 06:22:03--  http://www.umich.edu/~dropopen/MHL.tar.gz\n",
            "Resolving www.umich.edu (www.umich.edu)... 141.211.243.251, 2607:f018:1:1::1\n",
            "Connecting to www.umich.edu (www.umich.edu)|141.211.243.251|:80... connected.\n",
            "HTTP request sent, awaiting response... 200 OK\n",
            "Length: 14511277653 (14G) [application/x-gzip]\n",
            "Saving to: ‘STDOUT’\n",
            "\n",
            "-                   100%[===================>]  13.51G  3.74MB/s    in 60m 58s \n",
            "\n",
            "2020-12-17 07:23:01 (3.78 MB/s) - written to stdout [14511277653/14511277653]\n",
            "\n"
          ],
          "name": "stdout"
        }
      ]
    },
    {
      "cell_type": "code",
      "metadata": {
        "colab": {
          "base_uri": "https://localhost:8080/"
        },
        "id": "CYsgPAL8lNhw",
        "outputId": "47f03449-c22e-4ffb-99b7-070d737a19b3"
      },
      "source": [
        "!wget -c http://www.umich.edu/~dropda/Jamaica.tar.gz -O - | tar -xz"
      ],
      "execution_count": null,
      "outputs": [
        {
          "output_type": "stream",
          "text": [
            "--2020-12-17 07:25:16--  http://www.umich.edu/~dropda/Jamaica.tar.gz\n",
            "Resolving www.umich.edu (www.umich.edu)... 141.211.243.251, 2607:f018:1:1::1\n",
            "Connecting to www.umich.edu (www.umich.edu)|141.211.243.251|:80... connected.\n",
            "HTTP request sent, awaiting response... 200 OK\n",
            "Length: 18838134469 (18G) [application/x-gzip]\n",
            "Saving to: ‘STDOUT’\n",
            "\n",
            "-                   100%[===================>]  17.54G  3.83MB/s    in 78m 46s \n",
            "\n",
            "2020-12-17 08:44:02 (3.80 MB/s) - written to stdout [18838134469/18838134469]\n",
            "\n"
          ],
          "name": "stdout"
        }
      ]
    },
    {
      "cell_type": "code",
      "metadata": {
        "colab": {
          "base_uri": "https://localhost:8080/"
        },
        "id": "5M3Seb5y4FXs",
        "outputId": "8038dfb7-f7a0-4fac-da93-2c9d52a776f1"
      },
      "source": [
        "!python /content/WaterGAN/mainmhl.py --water_dataset water_images --air_dataset air_images --depth_dataset air_depth"
      ],
      "execution_count": null,
      "outputs": [
        {
          "output_type": "stream",
          "text": [
            "2020-12-17 08:51:08.362445: I tensorflow/stream_executor/platform/default/dso_loader.cc:48] Successfully opened dynamic library libcudart.so.10.1\n",
            "Traceback (most recent call last):\n",
            "  File \"/content/WaterGAN/ops.py\", line 10, in <module>\n",
            "    image_summary = tf.image_summary\n",
            "AttributeError: module 'tensorflow' has no attribute 'image_summary'\n",
            "\n",
            "During handling of the above exception, another exception occurred:\n",
            "\n",
            "Traceback (most recent call last):\n",
            "  File \"/content/WaterGAN/mainmhl.py\", line 5, in <module>\n",
            "    from modelmhl import WGAN\n",
            "  File \"/content/WaterGAN/modelmhl.py\", line 16, in <module>\n",
            "    from ops import *\n",
            "  File \"/content/WaterGAN/ops.py\", line 19, in <module>\n",
            "    merge_summary = tf.summary.merge\n",
            "AttributeError: module 'tensorboard.summary._tf.summary' has no attribute 'merge'\n"
          ],
          "name": "stdout"
        }
      ]
    },
    {
      "cell_type": "code",
      "metadata": {
        "id": "qt-gP5_55yLb"
      },
      "source": [
        "from google.colab import drive\n",
        "drive.mount('/content/drive')"
      ],
      "execution_count": null,
      "outputs": []
    }
  ]
}