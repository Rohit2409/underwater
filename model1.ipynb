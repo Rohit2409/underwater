{
  "nbformat": 4,
  "nbformat_minor": 0,
  "metadata": {
    "colab": {
      "name": "Untitled1.ipynb",
      "provenance": [],
      "mount_file_id": "1lH7j_hORxJecj-uEQeHErXkWQ2R_-f28",
      "authorship_tag": "ABX9TyOA7wEjl58Ybi78/rAmONXf",
      "include_colab_link": true
    },
    "kernelspec": {
      "name": "python3",
      "display_name": "Python 3"
    },
    "accelerator": "GPU"
  },
  "cells": [
    {
      "cell_type": "markdown",
      "metadata": {
        "id": "view-in-github",
        "colab_type": "text"
      },
      "source": [
        "<a href=\"https://colab.research.google.com/github/Rohit2409/underwater/blob/main/model1.ipynb\" target=\"_parent\"><img src=\"https://colab.research.google.com/assets/colab-badge.svg\" alt=\"Open In Colab\"/></a>"
      ]
    },
    {
      "cell_type": "code",
      "metadata": {
        "colab": {
          "base_uri": "https://localhost:8080/"
        },
        "id": "fADFqav-RTEC",
        "outputId": "a87cf451-1205-4b92-eab2-e1aee8d4dd64"
      },
      "source": [
        "!git clone https://github.com/xahidbuffon/FUnIE-GAN.git"
      ],
      "execution_count": 1,
      "outputs": [
        {
          "output_type": "stream",
          "text": [
            "Cloning into 'FUnIE-GAN'...\n",
            "remote: Enumerating objects: 34, done.\u001b[K\n",
            "remote: Counting objects: 100% (34/34), done.\u001b[K\n",
            "remote: Compressing objects: 100% (24/24), done.\u001b[K\n",
            "remote: Total 1088 (delta 14), reused 24 (delta 10), pack-reused 1054\u001b[K\n",
            "Receiving objects: 100% (1088/1088), 126.27 MiB | 40.37 MiB/s, done.\n",
            "Resolving deltas: 100% (616/616), done.\n"
          ],
          "name": "stdout"
        }
      ]
    },
    {
      "cell_type": "code",
      "metadata": {
        "colab": {
          "base_uri": "https://localhost:8080/"
        },
        "id": "XmfUCybPRfFw",
        "outputId": "1fe0736a-483a-44ab-d383-108bbb5db4f8"
      },
      "source": [
        "!git clone https://github.com/cameronfabbri/Underwater-Color-Correction.git"
      ],
      "execution_count": 2,
      "outputs": [
        {
          "output_type": "stream",
          "text": [
            "Cloning into 'Underwater-Color-Correction'...\n",
            "remote: Enumerating objects: 9072, done.\u001b[K\n",
            "remote: Total 9072 (delta 0), reused 0 (delta 0), pack-reused 9072\u001b[K\n",
            "Receiving objects: 100% (9072/9072), 1014.47 MiB | 49.91 MiB/s, done.\n",
            "Resolving deltas: 100% (1021/1021), done.\n"
          ],
          "name": "stdout"
        }
      ]
    },
    {
      "cell_type": "code",
      "metadata": {
        "id": "pM16BMItRnGb"
      },
      "source": [
        "import torch\r\n",
        "import numpy\r\n",
        "import matplotlib.pyplot as plt"
      ],
      "execution_count": 3,
      "outputs": []
    },
    {
      "cell_type": "code",
      "metadata": {
        "id": "Y9Ln_9jLRvnw"
      },
      "source": [
        "model1= torch.load('/content/FUnIE-GAN/PyTorch/models/funie_discriminator.pth')"
      ],
      "execution_count": 4,
      "outputs": []
    },
    {
      "cell_type": "code",
      "metadata": {
        "colab": {
          "base_uri": "https://localhost:8080/"
        },
        "id": "B1yHK6s1SOal",
        "outputId": "e151aeb0-6762-46bb-a64c-b194a1feec80"
      },
      "source": [
        "!python /content/FUnIE-GAN/PyTorch/train_funiegan.py"
      ],
      "execution_count": null,
      "outputs": [
        {
          "output_type": "stream",
          "text": [
            "Downloading: \"https://download.pytorch.org/models/vgg19-dcbb9e9d.pth\" to /root/.cache/torch/hub/checkpoints/vgg19-dcbb9e9d.pth\n",
            "100% 548M/548M [00:09<00:00, 62.0MB/s]\n"
          ],
          "name": "stdout"
        }
      ]
    },
    {
      "cell_type": "markdown",
      "metadata": {
        "id": "xIREX98NTu-E"
      },
      "source": [
        "1.EUPV dataset imported into drive.\r\n",
        "2.Loder argument changed to single argument.\r\n",
        "3.train_euvp.yaml and train_ufo.yaml path changed."
      ]
    }
  ]
}