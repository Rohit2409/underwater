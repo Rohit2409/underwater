{
  "nbformat": 4,
  "nbformat_minor": 0,
  "metadata": {
    "colab": {
      "name": "Untitled1.ipynb",
      "provenance": [],
      "mount_file_id": "https://github.com/Rohit2409/underwater/blob/main/model1.ipynb",
      "authorship_tag": "ABX9TyPy8a6uVq7R5eEAFM/HG9xY",
      "include_colab_link": true
    },
    "kernelspec": {
      "name": "python3",
      "display_name": "Python 3"
    },
    "accelerator": "GPU"
  },
  "cells": [
    {
      "cell_type": "markdown",
      "metadata": {
        "id": "view-in-github",
        "colab_type": "text"
      },
      "source": [
        "<a href=\"https://colab.research.google.com/github/Rohit2409/underwater/blob/main/model1.ipynb\" target=\"_parent\"><img src=\"https://colab.research.google.com/assets/colab-badge.svg\" alt=\"Open In Colab\"/></a>"
      ]
    },
    {
      "cell_type": "code",
      "metadata": {
        "id": "pM16BMItRnGb"
      },
      "source": [
        "import torch\r\n",
        "import numpy\r\n",
        "import matplotlib.pyplot as plt"
      ],
      "execution_count": 1,
      "outputs": []
    },
    {
      "cell_type": "code",
      "metadata": {
        "id": "Y9Ln_9jLRvnw"
      },
      "source": [
        "model1= torch.load('/content/drive/MyDrive/Colab Notebooks/FUnIE-GAN-master/FUnIE-GAN-master/PyTorch/models/funie_discriminator.pth')"
      ],
      "execution_count": 2,
      "outputs": []
    },
    {
      "cell_type": "code",
      "metadata": {
        "id": "R9ix4Y_yHGat"
      },
      "source": [
        "model2= torch.load('/content/drive/MyDrive/Colab Notebooks/FUnIE-GAN-master/FUnIE-GAN-master/PyTorch/models/funie_generator.pth')"
      ],
      "execution_count": 5,
      "outputs": []
    },
    {
      "cell_type": "code",
      "metadata": {
        "id": "B1yHK6s1SOal",
        "outputId": "a60905d2-02ba-48aa-973e-381d11e3deaf",
        "colab": {
          "base_uri": "https://localhost:8080/"
        }
      },
      "source": [
        "!python '/content/drive/MyDrive/Colab Notebooks/FUnIE-GAN-master/FUnIE-GAN-master/PyTorch/train_funiegan.py'"
      ],
      "execution_count": 3,
      "outputs": [
        {
          "output_type": "stream",
          "text": [
            "Downloading: \"https://download.pytorch.org/models/vgg19-dcbb9e9d.pth\" to /root/.cache/torch/hub/checkpoints/vgg19-dcbb9e9d.pth\n",
            "100% 548M/548M [00:07<00:00, 77.8MB/s]\n",
            "[Epoch 9/10: batch 1400/1430] [DLoss: 1.412, GLoss: 2.735, AdvLoss: 0.740]"
          ],
          "name": "stdout"
        }
      ]
    },
    {
      "cell_type": "markdown",
      "metadata": {
        "id": "xIREX98NTu-E"
      },
      "source": [
        "1.EUPV dataset imported into drive.\r\n",
        "2.Loder argument changed to single argument in 46th line of train_funiegan.yaml.\r\n",
        "3.train_euvp.yaml and train_ufo.yaml path changed in 29th and 30th line of train_funiegan.yaml.\r\n",
        "4.change path for paired sample in train_euvp.yaml.\r\n",
        "5.For demopurpose : set epoch number as 10 in both train_funiegan.py and train_ugan.py"
      ]
    },
    {
      "cell_type": "code",
      "metadata": {
        "id": "FKnRPNqDG6pi",
        "outputId": "276bccee-e44d-4fa4-f4b9-8e2fbf9931f6",
        "colab": {
          "base_uri": "https://localhost:8080/"
        }
      },
      "source": [
        "!python '/content/drive/MyDrive/Colab Notebooks/FUnIE-GAN-master/FUnIE-GAN-master/PyTorch/test.py'"
      ],
      "execution_count": 9,
      "outputs": [
        {
          "output_type": "stream",
          "text": [
            "Loaded model from /content/drive/MyDrive/Colab Notebooks/FUnIE-GAN-master/FUnIE-GAN-master/PyTorch/models/funie_generator.pth\n",
            "Tested: /content/drive/MyDrive/Colab Notebooks/FUnIE-GAN-master/FUnIE-GAN-master/data/test/A/1.jpg\n",
            "Tested: /content/drive/MyDrive/Colab Notebooks/FUnIE-GAN-master/FUnIE-GAN-master/data/test/A/10.jpg\n",
            "Tested: /content/drive/MyDrive/Colab Notebooks/FUnIE-GAN-master/FUnIE-GAN-master/data/test/A/11.jpg\n",
            "Tested: /content/drive/MyDrive/Colab Notebooks/FUnIE-GAN-master/FUnIE-GAN-master/data/test/A/12.jpg\n",
            "Tested: /content/drive/MyDrive/Colab Notebooks/FUnIE-GAN-master/FUnIE-GAN-master/data/test/A/13.jpg\n",
            "Tested: /content/drive/MyDrive/Colab Notebooks/FUnIE-GAN-master/FUnIE-GAN-master/data/test/A/14.jpg\n",
            "Tested: /content/drive/MyDrive/Colab Notebooks/FUnIE-GAN-master/FUnIE-GAN-master/data/test/A/15.jpg\n",
            "Tested: /content/drive/MyDrive/Colab Notebooks/FUnIE-GAN-master/FUnIE-GAN-master/data/test/A/16.jpg\n",
            "Tested: /content/drive/MyDrive/Colab Notebooks/FUnIE-GAN-master/FUnIE-GAN-master/data/test/A/17.jpg\n",
            "Tested: /content/drive/MyDrive/Colab Notebooks/FUnIE-GAN-master/FUnIE-GAN-master/data/test/A/18.jpg\n",
            "Tested: /content/drive/MyDrive/Colab Notebooks/FUnIE-GAN-master/FUnIE-GAN-master/data/test/A/19.jpg\n",
            "Tested: /content/drive/MyDrive/Colab Notebooks/FUnIE-GAN-master/FUnIE-GAN-master/data/test/A/2.jpg\n",
            "Tested: /content/drive/MyDrive/Colab Notebooks/FUnIE-GAN-master/FUnIE-GAN-master/data/test/A/20.jpg\n",
            "Tested: /content/drive/MyDrive/Colab Notebooks/FUnIE-GAN-master/FUnIE-GAN-master/data/test/A/21.jpg\n",
            "Tested: /content/drive/MyDrive/Colab Notebooks/FUnIE-GAN-master/FUnIE-GAN-master/data/test/A/22.jpg\n",
            "Tested: /content/drive/MyDrive/Colab Notebooks/FUnIE-GAN-master/FUnIE-GAN-master/data/test/A/23.jpg\n",
            "Tested: /content/drive/MyDrive/Colab Notebooks/FUnIE-GAN-master/FUnIE-GAN-master/data/test/A/3.jpg\n",
            "Tested: /content/drive/MyDrive/Colab Notebooks/FUnIE-GAN-master/FUnIE-GAN-master/data/test/A/4.jpg\n",
            "Tested: /content/drive/MyDrive/Colab Notebooks/FUnIE-GAN-master/FUnIE-GAN-master/data/test/A/5.jpg\n",
            "Tested: /content/drive/MyDrive/Colab Notebooks/FUnIE-GAN-master/FUnIE-GAN-master/data/test/A/6.jpg\n",
            "Tested: /content/drive/MyDrive/Colab Notebooks/FUnIE-GAN-master/FUnIE-GAN-master/data/test/A/7.jpg\n",
            "Tested: /content/drive/MyDrive/Colab Notebooks/FUnIE-GAN-master/FUnIE-GAN-master/data/test/A/8.jpg\n",
            "Tested: /content/drive/MyDrive/Colab Notebooks/FUnIE-GAN-master/FUnIE-GAN-master/data/test/A/9.jpg\n",
            "\n",
            "Total samples: 23\n",
            "Time taken: 0 sec at 525.273 fps\n",
            "Saved generated images in in data/output/\n",
            "\n"
          ],
          "name": "stdout"
        }
      ]
    }
  ]
}