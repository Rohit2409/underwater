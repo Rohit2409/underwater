{
  "nbformat": 4,
  "nbformat_minor": 0,
  "metadata": {
    "colab": {
      "name": "Untitled2.ipynb",
      "provenance": [],
      "collapsed_sections": [],
      "mount_file_id": "https://github.com/Rohit2409/underwater/blob/main/model2.ipynb",
      "authorship_tag": "ABX9TyOCnD5eSLbe779PsfLbUcT7",
      "include_colab_link": true
    },
    "kernelspec": {
      "name": "python3",
      "display_name": "Python 3"
    },
    "accelerator": "GPU"
  },
  "cells": [
    {
      "cell_type": "markdown",
      "metadata": {
        "id": "view-in-github",
        "colab_type": "text"
      },
      "source": [
        "<a href=\"https://colab.research.google.com/github/Rohit2409/underwater/blob/main/model2.ipynb\" target=\"_parent\"><img src=\"https://colab.research.google.com/assets/colab-badge.svg\" alt=\"Open In Colab\"/></a>"
      ]
    },
    {
      "cell_type": "code",
      "metadata": {
        "id": "qxaukzPvY2RE"
      },
      "source": [
        "import torch\r\n",
        "import numpy\r\n",
        "import matplotlib.pyplot as plt"
      ],
      "execution_count": 1,
      "outputs": []
    },
    {
      "cell_type": "code",
      "metadata": {
        "id": "-Qp0fihzY81k"
      },
      "source": [
        "model1= torch.load('/content/drive/MyDrive/Colab Notebooks/FUnIE-GAN-master/FUnIE-GAN-master/PyTorch/models/funie_generator.pth')"
      ],
      "execution_count": 2,
      "outputs": []
    },
    {
      "cell_type": "code",
      "metadata": {
        "id": "BOxOCUDBZidL"
      },
      "source": [
        "!python '/content/drive/MyDrive/Colab Notebooks/FUnIE-GAN-master/FUnIE-GAN-master/PyTorch/train_ugan.py'"
      ],
      "execution_count": null,
      "outputs": []
    },
    {
      "cell_type": "markdown",
      "metadata": {
        "id": "mos0NAp5bW0F"
      },
      "source": [
        "1.EUPV dataset imported into drive. 2.Loder argument changed to single argument in 46th line of train_funiegan.yaml. 3.train_euvp.yaml and train_ufo.yaml path changed in 29th and 30th line of train_funiegan.yaml. 4.change path for paired sample in train_euvp.yaml"
      ]
    },
    {
      "cell_type": "code",
      "metadata": {
        "id": "OKX8xVD7rmCK"
      },
      "source": [
        "!python '/content/drive/MyDrive/Colab Notebooks/FUnIE-GAN-master/FUnIE-GAN-master/PyTorch/test.py'"
      ],
      "execution_count": null,
      "outputs": []
    }
  ]
}