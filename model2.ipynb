{
  "nbformat": 4,
  "nbformat_minor": 0,
  "metadata": {
    "colab": {
      "name": "Untitled2.ipynb",
      "provenance": [],
      "collapsed_sections": [],
      "mount_file_id": "https://github.com/Rohit2409/underwater/blob/main/model2.ipynb",
      "authorship_tag": "ABX9TyPrQgHeWHhmsXAXhtjoMh1p",
      "include_colab_link": true
    },
    "kernelspec": {
      "name": "python3",
      "display_name": "Python 3"
    },
    "accelerator": "GPU"
  },
  "cells": [
    {
      "cell_type": "markdown",
      "metadata": {
        "id": "view-in-github",
        "colab_type": "text"
      },
      "source": [
        "<a href=\"https://colab.research.google.com/github/Rohit2409/underwater/blob/main/model2.ipynb\" target=\"_parent\"><img src=\"https://colab.research.google.com/assets/colab-badge.svg\" alt=\"Open In Colab\"/></a>"
      ]
    },
    {
      "cell_type": "code",
      "metadata": {
        "id": "qxaukzPvY2RE"
      },
      "source": [
        "import torch\r\n",
        "import numpy\r\n",
        "import matplotlib.pyplot as plt"
      ],
      "execution_count": 1,
      "outputs": []
    },
    {
      "cell_type": "code",
      "metadata": {
        "id": "-Qp0fihzY81k"
      },
      "source": [
        "model1= torch.load('/content/drive/MyDrive/Colab Notebooks/FUnIE-GAN-master/FUnIE-GAN-master/PyTorch/models/funie_generator.pth')"
      ],
      "execution_count": 2,
      "outputs": []
    },
    {
      "cell_type": "code",
      "metadata": {
        "id": "BOxOCUDBZidL"
      },
      "source": [
        "!python '/content/drive/MyDrive/Colab Notebooks/FUnIE-GAN-master/FUnIE-GAN-master/PyTorch/train_ugan.py'"
      ],
      "execution_count": null,
      "outputs": []
    },
    {
      "cell_type": "markdown",
      "metadata": {
        "id": "mos0NAp5bW0F"
      },
      "source": [
        "1.EUPV dataset imported into drive. 2.Loder argument changed to single argument in 46th line of train_funiegan.yaml. 3.train_euvp.yaml and train_ufo.yaml path changed in 29th and 30th line of train_funiegan.yaml. 4.change path for paired sample in train_euvp.yaml 5.For demopurpose : set epoch number as 10 in both train_funiegan.py and train_ugan.py"
      ]
    },
    {
      "cell_type": "code",
      "metadata": {
        "id": "OKX8xVD7rmCK",
        "outputId": "ef2d41a5-14d8-44a4-bcac-1403ee06cae2",
        "colab": {
          "base_uri": "https://localhost:8080/"
        }
      },
      "source": [
        "!python '/content/drive/MyDrive/Colab Notebooks/FUnIE-GAN-master/FUnIE-GAN-master/PyTorch/test_1.py'"
      ],
      "execution_count": 6,
      "outputs": [
        {
          "output_type": "stream",
          "text": [
            "Loaded model from /content/drive/MyDrive/Colab Notebooks/FUnIE-GAN-master/FUnIE-GAN-master/PyTorch/models/funie_generator.pth\n",
            "Tested: /content/drive/MyDrive/Colab Notebooks/FUnIE-GAN-master/FUnIE-GAN-master/data/test/A/1.jpg\n",
            "Tested: /content/drive/MyDrive/Colab Notebooks/FUnIE-GAN-master/FUnIE-GAN-master/data/test/A/10.jpg\n",
            "Tested: /content/drive/MyDrive/Colab Notebooks/FUnIE-GAN-master/FUnIE-GAN-master/data/test/A/11.jpg\n",
            "Tested: /content/drive/MyDrive/Colab Notebooks/FUnIE-GAN-master/FUnIE-GAN-master/data/test/A/12.jpg\n",
            "Tested: /content/drive/MyDrive/Colab Notebooks/FUnIE-GAN-master/FUnIE-GAN-master/data/test/A/13.jpg\n",
            "Tested: /content/drive/MyDrive/Colab Notebooks/FUnIE-GAN-master/FUnIE-GAN-master/data/test/A/14.jpg\n",
            "Tested: /content/drive/MyDrive/Colab Notebooks/FUnIE-GAN-master/FUnIE-GAN-master/data/test/A/15.jpg\n",
            "Tested: /content/drive/MyDrive/Colab Notebooks/FUnIE-GAN-master/FUnIE-GAN-master/data/test/A/16.jpg\n",
            "Tested: /content/drive/MyDrive/Colab Notebooks/FUnIE-GAN-master/FUnIE-GAN-master/data/test/A/17.jpg\n",
            "Tested: /content/drive/MyDrive/Colab Notebooks/FUnIE-GAN-master/FUnIE-GAN-master/data/test/A/18.jpg\n",
            "Tested: /content/drive/MyDrive/Colab Notebooks/FUnIE-GAN-master/FUnIE-GAN-master/data/test/A/19.jpg\n",
            "Tested: /content/drive/MyDrive/Colab Notebooks/FUnIE-GAN-master/FUnIE-GAN-master/data/test/A/2.jpg\n",
            "Tested: /content/drive/MyDrive/Colab Notebooks/FUnIE-GAN-master/FUnIE-GAN-master/data/test/A/20.jpg\n",
            "Tested: /content/drive/MyDrive/Colab Notebooks/FUnIE-GAN-master/FUnIE-GAN-master/data/test/A/21.jpg\n",
            "Tested: /content/drive/MyDrive/Colab Notebooks/FUnIE-GAN-master/FUnIE-GAN-master/data/test/A/22.jpg\n",
            "Tested: /content/drive/MyDrive/Colab Notebooks/FUnIE-GAN-master/FUnIE-GAN-master/data/test/A/23.jpg\n",
            "Tested: /content/drive/MyDrive/Colab Notebooks/FUnIE-GAN-master/FUnIE-GAN-master/data/test/A/3.jpg\n",
            "Tested: /content/drive/MyDrive/Colab Notebooks/FUnIE-GAN-master/FUnIE-GAN-master/data/test/A/4.jpg\n",
            "Tested: /content/drive/MyDrive/Colab Notebooks/FUnIE-GAN-master/FUnIE-GAN-master/data/test/A/5.jpg\n",
            "Tested: /content/drive/MyDrive/Colab Notebooks/FUnIE-GAN-master/FUnIE-GAN-master/data/test/A/6.jpg\n",
            "Tested: /content/drive/MyDrive/Colab Notebooks/FUnIE-GAN-master/FUnIE-GAN-master/data/test/A/7.jpg\n",
            "Tested: /content/drive/MyDrive/Colab Notebooks/FUnIE-GAN-master/FUnIE-GAN-master/data/test/A/8.jpg\n",
            "Tested: /content/drive/MyDrive/Colab Notebooks/FUnIE-GAN-master/FUnIE-GAN-master/data/test/A/9.jpg\n",
            "\n",
            "Total samples: 23\n",
            "Time taken: 0 sec at 421.571 fps\n",
            "Saved generated images in in data/output2/\n",
            "\n"
          ],
          "name": "stdout"
        }
      ]
    },
    {
      "cell_type": "code",
      "metadata": {
        "id": "xn-NC8TEbz7B",
        "outputId": "9b2de128-b8fd-4f31-e439-48e4e18defdf",
        "colab": {
          "base_uri": "https://localhost:8080/"
        }
      },
      "source": [
        "!pip3 install scikit-image opencv-python imutils"
      ],
      "execution_count": 70,
      "outputs": [
        {
          "output_type": "stream",
          "text": [
            "Requirement already satisfied: scikit-image in /usr/local/lib/python3.6/dist-packages (0.16.2)\n",
            "Requirement already satisfied: opencv-python in /usr/local/lib/python3.6/dist-packages (4.1.2.30)\n",
            "Requirement already satisfied: imutils in /usr/local/lib/python3.6/dist-packages (0.5.3)\n",
            "Requirement already satisfied: matplotlib!=3.0.0,>=2.0.0 in /usr/local/lib/python3.6/dist-packages (from scikit-image) (3.2.2)\n",
            "Requirement already satisfied: PyWavelets>=0.4.0 in /usr/local/lib/python3.6/dist-packages (from scikit-image) (1.1.1)\n",
            "Requirement already satisfied: imageio>=2.3.0 in /usr/local/lib/python3.6/dist-packages (from scikit-image) (2.4.1)\n",
            "Requirement already satisfied: networkx>=2.0 in /usr/local/lib/python3.6/dist-packages (from scikit-image) (2.5)\n",
            "Requirement already satisfied: pillow>=4.3.0 in /usr/local/lib/python3.6/dist-packages (from scikit-image) (7.0.0)\n",
            "Requirement already satisfied: scipy>=0.19.0 in /usr/local/lib/python3.6/dist-packages (from scikit-image) (1.4.1)\n",
            "Requirement already satisfied: numpy>=1.11.3 in /usr/local/lib/python3.6/dist-packages (from opencv-python) (1.19.4)\n",
            "Requirement already satisfied: python-dateutil>=2.1 in /usr/local/lib/python3.6/dist-packages (from matplotlib!=3.0.0,>=2.0.0->scikit-image) (2.8.1)\n",
            "Requirement already satisfied: kiwisolver>=1.0.1 in /usr/local/lib/python3.6/dist-packages (from matplotlib!=3.0.0,>=2.0.0->scikit-image) (1.3.1)\n",
            "Requirement already satisfied: pyparsing!=2.0.4,!=2.1.2,!=2.1.6,>=2.0.1 in /usr/local/lib/python3.6/dist-packages (from matplotlib!=3.0.0,>=2.0.0->scikit-image) (2.4.7)\n",
            "Requirement already satisfied: cycler>=0.10 in /usr/local/lib/python3.6/dist-packages (from matplotlib!=3.0.0,>=2.0.0->scikit-image) (0.10.0)\n",
            "Requirement already satisfied: decorator>=4.3.0 in /usr/local/lib/python3.6/dist-packages (from networkx>=2.0->scikit-image) (4.4.2)\n",
            "Requirement already satisfied: six>=1.5 in /usr/local/lib/python3.6/dist-packages (from python-dateutil>=2.1->matplotlib!=3.0.0,>=2.0.0->scikit-image) (1.15.0)\n"
          ],
          "name": "stdout"
        }
      ]
    },
    {
      "cell_type": "code",
      "metadata": {
        "id": "EFu885tIE2_K",
        "outputId": "0ef69288-1d3b-4e1c-9f89-96ee58b27163",
        "colab": {
          "base_uri": "https://localhost:8080/"
        }
      },
      "source": [
        "!python '/content/drive/MyDrive/Colab Notebooks/FUnIE-GAN-master/FUnIE-GAN-master/Evaluation/measure_ssim_psnr.py'"
      ],
      "execution_count": 79,
      "outputs": [
        {
          "output_type": "stream",
          "text": [
            "SSIM on 0 samples\n",
            "/content/drive/MyDrive/Colab Notebooks/FUnIE-GAN-master/FUnIE-GAN-master/Evaluation/measure_ssim_psnr.py:62: RuntimeWarning: Mean of empty slice\n",
            "  print (\"Mean: {0} std: {1}\".format(np.nanmean(SSIM_measures), np.nanstd(SSIM_measures)))\n",
            "Mean: nan std: None\n",
            "PSNR on 0 samples\n",
            "/content/drive/MyDrive/Colab Notebooks/FUnIE-GAN-master/FUnIE-GAN-master/Evaluation/measure_ssim_psnr.py:64: RuntimeWarning: Mean of empty slice\n",
            "  print (\"Mean: {0} std: {1}\".format(np.nanmean(PSNR_measures), np.nanstd(PSNR_measures)))\n",
            "Mean: nan std: None\n"
          ],
          "name": "stdout"
        }
      ]
    },
    {
      "cell_type": "code",
      "metadata": {
        "id": "18y36blLgnVx",
        "outputId": "3398412d-4ad9-4bc0-e3ea-d83967ebf8f3",
        "colab": {
          "base_uri": "https://localhost:8080/"
        }
      },
      "source": [
        "!python \"/content/drive/MyDrive/Colab Notebooks/FUnIE-GAN-master/FUnIE-GAN-master/Evaluation/measure_ssim_psnr.py\""
      ],
      "execution_count": 97,
      "outputs": [
        {
          "output_type": "stream",
          "text": [
            "SSIM on 515 samples\n",
            "Mean: 0.7927359059385133 std: None\n",
            "PSNR on 515 samples\n",
            "Mean: 26.22036646339714 std: None\n"
          ],
          "name": "stdout"
        }
      ]
    }
  ]
}